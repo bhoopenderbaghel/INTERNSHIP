{
 "cells": [
  {
   "cell_type": "markdown",
   "id": "fbb66750",
   "metadata": {},
   "source": [
    "# Regular Expressions Assignment"
   ]
  },
  {
   "cell_type": "raw",
   "id": "322ec7d1",
   "metadata": {},
   "source": [
    "Question 1- Write a Python program to check that a string contains only a certain set of characters (in this case a-z, A-Z and 0-9)."
   ]
  },
  {
   "cell_type": "code",
   "execution_count": 1,
   "id": "72b2ee4f",
   "metadata": {},
   "outputs": [],
   "source": [
    "import regex as re"
   ]
  },
  {
   "cell_type": "code",
   "execution_count": 163,
   "id": "fd4939df",
   "metadata": {},
   "outputs": [
    {
     "name": "stdout",
     "output_type": "stream",
     "text": [
      "['Q', 'u', 'e', 's', 't', 'i', 'o', 'n', '1', 'W', 'r', 'i', 't', 'e', 'a', 'P', 'y', 't', 'h', 'o', 'n', 'p', 'r', 'o', 'g', 'r', 'a', 'm', 't', 'o', 'c', 'h', 'e', 'c', 'k', 't', 'h', 'a', 't', 'a', 's', 't', 'r', 'i', 'n', 'g', 'c', 'o', 'n', 't', 'a', 'i', 'n', 's', 'o', 'n', 'l', 'y', 'a', 'c', 'e', 'r', 't', 'a', 'i', 'n', 's', 'e', 't', 'o', 'f']\n"
     ]
    }
   ],
   "source": [
    "string = \"Question 1- Write a Python program to check that a string contains only a certain set of\"\n",
    "\n",
    "pattern = \"\\w\"\n",
    "\n",
    "b=re.findall(pattern,string)\n",
    "\n",
    "print(b)"
   ]
  },
  {
   "cell_type": "raw",
   "id": "451c712e",
   "metadata": {},
   "source": [
    "Question 2- Create a function in python that matches a string that has an a followed by zero or more b's"
   ]
  },
  {
   "cell_type": "code",
   "execution_count": 12,
   "id": "b0cc3b35",
   "metadata": {},
   "outputs": [],
   "source": [
    "import regex as re "
   ]
  },
  {
   "cell_type": "code",
   "execution_count": 164,
   "id": "12856a2f",
   "metadata": {},
   "outputs": [
    {
     "name": "stdout",
     "output_type": "stream",
     "text": [
      "['b', '', '', '', '', '', '', '', '', '', '', 'b', '', '', '', '', '', '', '', '', '', '', '', 'b', '', '', '', '', '', 'b', '', '', '', '', '', '', '', '', '', '', '', '']\n"
     ]
    }
   ],
   "source": [
    "text = \"bhoopender baghel is a basketball palyer \"\n",
    "\n",
    "pattern=\"b*\"\n",
    "\n",
    "d = re.findall(pattern,text)\n",
    "\n",
    "print(d)"
   ]
  },
  {
   "cell_type": "raw",
   "id": "4dc507bd",
   "metadata": {},
   "source": [
    "Question 3-  Create a function in python that matches a string that has an a followed by one or more b's"
   ]
  },
  {
   "cell_type": "code",
   "execution_count": 24,
   "id": "a262502c",
   "metadata": {},
   "outputs": [],
   "source": [
    "import regex as re"
   ]
  },
  {
   "cell_type": "code",
   "execution_count": 165,
   "id": "22ba21c9",
   "metadata": {},
   "outputs": [
    {
     "name": "stdout",
     "output_type": "stream",
     "text": [
      "['b', 'b']\n"
     ]
    }
   ],
   "source": [
    "text1 = \"Question 3-  Create a function in python that matches a string that has an a followed by one or more b's\"\n",
    "\n",
    "pattern=\"b+\"\n",
    "\n",
    "t=re.findall(pattern,text1)\n",
    "\n",
    "print(t)"
   ]
  },
  {
   "cell_type": "raw",
   "id": "5480a6a1",
   "metadata": {},
   "source": [
    "Question 4- Create a function in Python and use RegEx that matches a string that has an a followed by zero or one 'b'."
   ]
  },
  {
   "cell_type": "code",
   "execution_count": 162,
   "id": "579f54bf",
   "metadata": {},
   "outputs": [],
   "source": [
    "import regex as re"
   ]
  },
  {
   "cell_type": "code",
   "execution_count": 161,
   "id": "47b12141",
   "metadata": {},
   "outputs": [
    {
     "name": "stdout",
     "output_type": "stream",
     "text": [
      "['', '', '', '', '', '', '', '', 'b', '', '', '', '', '', '', '', '', '', '', '', '', '', '', '', '', '', '', '', '', '', '', '', '', '', '', '', '', '', '', '', '', '', '', '', '', '', '', '', '', '', '', '', '', '', '', '', '', '', '', '', '']\n"
     ]
    }
   ],
   "source": [
    "text2 = \"Barack Obama is former President of United States of America\"\n",
    "\n",
    "pattern = \"b?\"\n",
    "\n",
    "u=re.findall(pattern,text2)\n",
    "\n",
    "print(u)"
   ]
  },
  {
   "cell_type": "raw",
   "id": "f0d29501",
   "metadata": {},
   "source": [
    "Question 5- Write a Python program that matches a string that has an a followed by three 'b'."
   ]
  },
  {
   "cell_type": "code",
   "execution_count": 160,
   "id": "cd4c321e",
   "metadata": {},
   "outputs": [
    {
     "name": "stdout",
     "output_type": "stream",
     "text": [
      "['b', 'b', 'b']\n"
     ]
    }
   ],
   "source": [
    "import regex as re\n",
    "\n",
    "string1 = \"before becoming a sikh,a muslim,a hindu or a christian,lets become a human first \"\n",
    "\n",
    "pattern = \"b+\"\n",
    "\n",
    "c=re.findall(pattern,string1)\n",
    "\n",
    "print(c)"
   ]
  },
  {
   "cell_type": "raw",
   "id": "73ce5a13",
   "metadata": {},
   "source": [
    "Question 6- Write a regular expression in Python to split a string into uppercase letters.\n",
    "Sample text: “ImportanceOfRegularExpressionsInPython”\n",
    "Output: [‘Importance’, ‘Of’, ‘Regular’, ‘Expression’, ‘In’, ‘Python’]\n"
   ]
  },
  {
   "cell_type": "code",
   "execution_count": 159,
   "id": "000c704b",
   "metadata": {},
   "outputs": [],
   "source": [
    "import regex as re"
   ]
  },
  {
   "cell_type": "code",
   "execution_count": 158,
   "id": "e9d8d216",
   "metadata": {},
   "outputs": [
    {
     "name": "stdout",
     "output_type": "stream",
     "text": [
      "['Importance', 'Of', 'Regular', 'Expressions', 'In', 'Python']\n"
     ]
    }
   ],
   "source": [
    "sampletext = \"ImportanceOfRegularExpressionsInPython\"\n",
    "\n",
    "pattern = \"[A-Z][^A-Z]*\"\n",
    "\n",
    "s=re.findall(pattern,sampletext)\n",
    "\n",
    "print(s)"
   ]
  },
  {
   "cell_type": "raw",
   "id": "59f75a2f",
   "metadata": {},
   "source": [
    "Question 7- Write a Python program that matches a string that has an a followed by two to three 'b'.\n"
   ]
  },
  {
   "cell_type": "code",
   "execution_count": 157,
   "id": "4aeedc88",
   "metadata": {},
   "outputs": [
    {
     "name": "stdout",
     "output_type": "stream",
     "text": [
      "['bb', 'bb']\n"
     ]
    }
   ],
   "source": [
    "import regex as re\n",
    "\n",
    "test_string = \"abc abbc abbcc\"\n",
    "\n",
    "pattern = r'a(b{2,3})'\n",
    "\n",
    "test = re.findall(pattern,test_string)\n",
    "\n",
    "print(test)"
   ]
  },
  {
   "cell_type": "raw",
   "id": "fd24eb2c",
   "metadata": {},
   "source": [
    "Question 8- Write a Python program to find sequences of lowercase letters joined with a underscore."
   ]
  },
  {
   "cell_type": "code",
   "execution_count": 156,
   "id": "630f6508",
   "metadata": {},
   "outputs": [
    {
     "name": "stdout",
     "output_type": "stream",
     "text": [
      "['his_is', 'a_test', 'string_with', 'multiple_sequences', 'like_this', 'and_this']\n"
     ]
    }
   ],
   "source": [
    "import regex as re \n",
    "\n",
    "text_8 = \"This_is_a_test_string_with_multiple_sequences like_this_and_this_one\"\n",
    "\n",
    "pattern = r'[a-z]+_[a-z]+'\n",
    "\n",
    "Q8 = re.findall(pattern,text_8)\n",
    "\n",
    "print(Q8)"
   ]
  },
  {
   "cell_type": "raw",
   "id": "ecab2e07",
   "metadata": {},
   "source": [
    "Question 9- Write a Python program that matches a string that has an 'a' followed by anything, ending in 'b'."
   ]
  },
  {
   "cell_type": "code",
   "execution_count": 155,
   "id": "408056ee",
   "metadata": {},
   "outputs": [
    {
     "name": "stdout",
     "output_type": "stream",
     "text": [
      "['axyzb']\n"
     ]
    }
   ],
   "source": [
    "import regex as re\n",
    "\n",
    "text_9 = \"axyzb\"\n",
    "\n",
    "pattern = r'a.*b$'\n",
    "\n",
    "Q9 = re.findall(pattern,text_9)\n",
    "\n",
    "print(Q9)"
   ]
  },
  {
   "cell_type": "raw",
   "id": "d128571e",
   "metadata": {},
   "source": [
    "Question 10- Write a Python program that matches a word at the beginning of a string."
   ]
  },
  {
   "cell_type": "code",
   "execution_count": 154,
   "id": "97de58a0",
   "metadata": {},
   "outputs": [
    {
     "name": "stdout",
     "output_type": "stream",
     "text": [
      "lenovo\n"
     ]
    }
   ],
   "source": [
    "import regex as re \n",
    "\n",
    "text_10 = \"lenovo computers are good to use\"\n",
    "\n",
    "pattern = r'\\bleno\\w+' \n",
    "\n",
    "Q10 = re.search(pattern,text_10)\n",
    "\n",
    "print(Q10.group())"
   ]
  },
  {
   "cell_type": "raw",
   "id": "8f2dda24",
   "metadata": {},
   "source": [
    "Question 11- Write a Python program to match a string that contains only upper and lowercase letters, numbers, and underscores."
   ]
  },
  {
   "cell_type": "code",
   "execution_count": 153,
   "id": "b2b51cdc",
   "metadata": {},
   "outputs": [
    {
     "name": "stdout",
     "output_type": "stream",
     "text": [
      "['H', 'e', 'l', 'l', 'o', '_', 'W', 'o', 'r', 'l', 'd', '1', '2', '3', '1', '2', '3', '4', '5', 'a', 'b', 'c', 'd', 'e', 'f', '_', 'g', 'h', 'i']\n"
     ]
    }
   ],
   "source": [
    "import regex as re\n",
    "\n",
    "text_11 =  \"Hello_World12312345abc-def_ghi\"\n",
    "\n",
    "pattern = \"\\w\"\n",
    "\n",
    "Q11 = re.findall(pattern,text_11)\n",
    "\n",
    "print(Q11)"
   ]
  },
  {
   "cell_type": "raw",
   "id": "3f5b3fd8",
   "metadata": {},
   "source": [
    "Question 12- Write a Python program where a string will start with a specific number. "
   ]
  },
  {
   "cell_type": "code",
   "execution_count": 152,
   "id": "1bcbec72",
   "metadata": {},
   "outputs": [
    {
     "name": "stdout",
     "output_type": "stream",
     "text": [
      "['15']\n"
     ]
    }
   ],
   "source": [
    "import regex as re \n",
    "\n",
    "text_12  = \"15/07/2023 is the date when i started my morning routing\"\n",
    "\n",
    "pattern = '^\\d+'\n",
    "\n",
    "Q12 = re.findall(pattern,text_12)\n",
    "\n",
    "print(Q12)"
   ]
  },
  {
   "cell_type": "raw",
   "id": "b7825b4f",
   "metadata": {},
   "source": [
    "Question 13- Write a Python program to remove leading zeros from an IP address"
   ]
  },
  {
   "cell_type": "code",
   "execution_count": 150,
   "id": "6fe39034",
   "metadata": {},
   "outputs": [
    {
     "name": "stdout",
     "output_type": "stream",
     "text": [
      "1 95 78 193\n"
     ]
    }
   ],
   "source": [
    "import regex as re\n",
    "\n",
    "Ip_address = \"1 95 0078 193\"\n",
    "\n",
    "pattern = r'\\b0+(\\d+)\\b'\n",
    "\n",
    "Q13 =re.sub(pattern, r'\\1', Ip_address)\n",
    "\n",
    "print(Q13)"
   ]
  },
  {
   "cell_type": "raw",
   "id": "fcc6578b",
   "metadata": {},
   "source": [
    "Question 14- Write a regular expression in python to match a date string in the form of Month name followed by day number and year stored in a text file.\n",
    "Sample text : 'On August 15th 1947 that India was declared independent from British colonialism, and the reins of control were handed over to the leaders of the Country’.\n",
    "Output- August 15th 1947\n",
    "Hint- Use re.match() method here\n"
   ]
  },
  {
   "cell_type": "code",
   "execution_count": 149,
   "id": "aa6dc5d5",
   "metadata": {},
   "outputs": [
    {
     "name": "stdout",
     "output_type": "stream",
     "text": [
      "August 15th 1947\n"
     ]
    }
   ],
   "source": [
    "import regex as re\n",
    "\n",
    "sample_text_1 = 'On August 15th 1947 that India was declared independent from British colonialism, and the reins of control were handed over to the leaders of the Country'\n",
    "\n",
    "date_pattern = r\"\\b([A-Za-z]+ \\d{1,2}(?:st|nd|rd|th)? \\d{4})\\b\"\n",
    "\n",
    "Q14 = re.search(date_pattern,sample_text_1)\n",
    "\n",
    "print(Q14.group())"
   ]
  },
  {
   "cell_type": "raw",
   "id": "9cc185c6",
   "metadata": {},
   "source": [
    "Question 15- Write a Python program to search some literals strings in a string. Go to the editor\n",
    "Sample text : 'The quick brown fox jumps over the lazy dog.'\n",
    "Searched words : 'fox', 'dog', 'horse'\n"
   ]
  },
  {
   "cell_type": "code",
   "execution_count": 148,
   "id": "1997894f",
   "metadata": {},
   "outputs": [
    {
     "name": "stdout",
     "output_type": "stream",
     "text": [
      "['fox', 'dog']\n"
     ]
    }
   ],
   "source": [
    "import regex as re\n",
    "\n",
    "sample_text_15 = \"The quick brOwn fox jump Over the lazy dog.\"\n",
    "\n",
    "word_pattern = \"[fox]+|[dog]+\"\n",
    "\n",
    "Q15 = re.findall(word_pattern,sample_text_15)\n",
    "\n",
    "print(Q15)"
   ]
  },
  {
   "cell_type": "raw",
   "id": "901b455d",
   "metadata": {},
   "source": [
    "Question 16- Write a Python program to search a literals string in a string and also find the location within the original string where the pattern occurs\n",
    "Sample text : 'The quick brown fox jumps over the lazy dog.'\n",
    "Searched words : 'fox'\n"
   ]
  },
  {
   "cell_type": "code",
   "execution_count": 107,
   "id": "1f620498",
   "metadata": {},
   "outputs": [
    {
     "name": "stdout",
     "output_type": "stream",
     "text": [
      "Found 'fox' at position 16-19.\n"
     ]
    }
   ],
   "source": [
    "import regex as re\n",
    "\n",
    "def search_string(text, pattern):\n",
    "    matches = re.finditer(pattern, text)\n",
    "    for match in matches:\n",
    "        start = match.start()\n",
    "        end = match.end()\n",
    "        print(f\"Found '{match.group()}' at position {start}-{end}.\")\n",
    "\n",
    "\n",
    "text = 'The quick brown fox jumps over the lazy dog.'\n",
    "\n",
    "pattern = r'fox'\n",
    "\n",
    "search_string(text , pattern)\n"
   ]
  },
  {
   "cell_type": "raw",
   "id": "9fc329c2",
   "metadata": {},
   "source": [
    "Question 17- Write a Python program to find the substrings within a string.\n",
    "Sample text : 'Python exercises, PHP exercises, C# exercises'\n",
    "Pattern : 'exercises'.\n"
   ]
  },
  {
   "cell_type": "code",
   "execution_count": 147,
   "id": "311f37bb",
   "metadata": {},
   "outputs": [
    {
     "name": "stdout",
     "output_type": "stream",
     "text": [
      "['exercises', 'exercises', 'exercises']\n"
     ]
    }
   ],
   "source": [
    "import regex as re\n",
    "\n",
    "sample_text_17 = 'Python exercises,PHP exercises, C# exercises'\n",
    "\n",
    "pattern = \"exercises\"\n",
    "\n",
    "Q17 = re.findall(pattern,sample_text_17)\n",
    "\n",
    "print(Q17)"
   ]
  },
  {
   "cell_type": "raw",
   "id": "93ca259e",
   "metadata": {},
   "source": [
    "Question 18- Write a Python program to find the occurrence and position of the substrings within a string."
   ]
  },
  {
   "cell_type": "code",
   "execution_count": 111,
   "id": "e3c41bc0",
   "metadata": {},
   "outputs": [
    {
     "name": "stdout",
     "output_type": "stream",
     "text": [
      "Occurrences of 'exercises' within the string:\n",
      "[7, 22, 36]\n",
      "Positions of 'exercises' within the string:\n",
      "Substring: exercises, Position: 7\n",
      "Substring: exercises, Position: 22\n",
      "Substring: exercises, Position: 36\n"
     ]
    }
   ],
   "source": [
    "import regex as  re\n",
    "\n",
    "def find_substring_occurrences(string, substring):\n",
    "    pattern = re.compile(substring)\n",
    "    matches = pattern.finditer(string)\n",
    "    occurrences = [match.start() for match in matches]\n",
    "    return occurrences\n",
    "\n",
    "\n",
    "def find_substring_positions(string, substring):\n",
    "    pattern = re.compile(substring)\n",
    "    matches = pattern.finditer(string)\n",
    "    positions = [(match.group(), match.start()) for match in matches]\n",
    "    return positions\n",
    "\n",
    "\n",
    "sample_text = 'Python exercises, PHP exercises, C# exercises'\n",
    "pattern = 'exercises'\n",
    "\n",
    "occurrences = find_substring_occurrences(sample_text, pattern)\n",
    "positions = find_substring_positions(sample_text, pattern)\n",
    "\n",
    "print(\"Occurrences of '{}' within the string:\".format(pattern))\n",
    "print(occurrences)\n",
    "\n",
    "print(\"Positions of '{}' within the string:\".format(pattern))\n",
    "for position in positions:\n",
    "    print(\"Substring: {}, Position: {}\".format(position[0], position[1]))\n"
   ]
  },
  {
   "cell_type": "raw",
   "id": "2f9e83ba",
   "metadata": {},
   "source": [
    "Question 19- Write a Python program to convert a date of yyyy-mm-dd format to dd-mm-yyyy format."
   ]
  },
  {
   "cell_type": "code",
   "execution_count": 114,
   "id": "88bff20d",
   "metadata": {},
   "outputs": [
    {
     "name": "stdout",
     "output_type": "stream",
     "text": [
      "Enter a date in yyyy-mm-dd format: 2023-07-15\n",
      "Converted date: 15-07-2023\n"
     ]
    }
   ],
   "source": [
    "import regex as  re\n",
    "\n",
    "def convert_date(date):\n",
    "    pattern = r\"(\\d{4})-(\\d{2})-(\\d{2})\"\n",
    "    \n",
    "    match = re.match(pattern, date)\n",
    "    \n",
    "    if match:\n",
    "        year = match.group(1)\n",
    "        month = match.group(2)\n",
    "        day = match.group(3)\n",
    "        \n",
    "        converted_date = f\"{day}-{month}-{year}\"\n",
    "        \n",
    "        return converted_date\n",
    "    else:\n",
    "        return \"Invalid date format\"\n",
    "\n",
    "date = input(\"Enter a date in yyyy-mm-dd format: \")\n",
    "converted_date = convert_date(date)\n",
    "print(\"Converted date:\", converted_date)\n"
   ]
  },
  {
   "cell_type": "raw",
   "id": "8116afb2",
   "metadata": {},
   "source": [
    "Question 20- Write a Python program to find all words starting with 'a' or 'e' in a given string."
   ]
  },
  {
   "cell_type": "code",
   "execution_count": 146,
   "id": "aad2b2bf",
   "metadata": {},
   "outputs": [
    {
     "name": "stdout",
     "output_type": "stream",
     "text": [
      "['apple', 'away', 'elephants', 'are', 'amazing', 'animals']\n"
     ]
    }
   ],
   "source": [
    "import regex as re \n",
    "\n",
    "input_string = \"An apple a day keeps the doctor away. elephants are amazing animals.\"\n",
    "\n",
    "pattern = r'\\b[ae]\\w+'\n",
    "\n",
    "Q20 = re.findall(pattern,input_string)\n",
    "\n",
    "print(Q20)"
   ]
  },
  {
   "cell_type": "raw",
   "id": "8084d133",
   "metadata": {},
   "source": [
    "Question 21- Write a Python program to separate and print the numbers and their position of a given string."
   ]
  },
  {
   "cell_type": "code",
   "execution_count": 145,
   "id": "ca886a93",
   "metadata": {},
   "outputs": [
    {
     "name": "stdout",
     "output_type": "stream",
     "text": [
      "['10', '5']\n"
     ]
    }
   ],
   "source": [
    "import regex as re\n",
    "\n",
    "text_21 = \"I have 10 apples and 5 oranges\"\n",
    "\n",
    "pattern = r'\\d+'\n",
    "\n",
    "Q21 = re.findall(pattern,text_21)\n",
    "\n",
    "print(Q21)"
   ]
  },
  {
   "cell_type": "raw",
   "id": "1dad1199",
   "metadata": {},
   "source": [
    "Question 22- Write a regular expression in python program to extract maximum numeric value from a string"
   ]
  },
  {
   "cell_type": "code",
   "execution_count": 118,
   "id": "9ba9f404",
   "metadata": {},
   "outputs": [
    {
     "name": "stdout",
     "output_type": "stream",
     "text": [
      "Maximum numeric value: 10\n"
     ]
    }
   ],
   "source": [
    "import regex as  re\n",
    "\n",
    "def extract_max_numeric_value(string):\n",
    "    numbers = re.findall(r'\\d+', string)\n",
    "\n",
    "    if numbers:\n",
    "        numbers = list(map(int, numbers))\n",
    "        return max(numbers)\n",
    "    else:\n",
    "        return None\n",
    "\n",
    "string = \"I have 10 apples and 5 oranges, but only 3 bananas.\"\n",
    "max_value = extract_max_numeric_value(string)\n",
    "print(\"Maximum numeric value:\", max_value)\n"
   ]
  },
  {
   "cell_type": "raw",
   "id": "6190c449",
   "metadata": {},
   "source": [
    "Question 23- Write a Regex in Python to put spaces between words starting with capital letters"
   ]
  },
  {
   "cell_type": "code",
   "execution_count": 144,
   "id": "3b397e6a",
   "metadata": {},
   "outputs": [
    {
     "name": "stdout",
     "output_type": "stream",
     "text": [
      "This Is An Example String\n"
     ]
    }
   ],
   "source": [
    "import regex as  re\n",
    "\n",
    "text = \"ThisIsAnExampleString\"\n",
    "\n",
    "pattern = r\"(?<!^)(?=[A-Z])\"\n",
    "\n",
    "result = re.sub(pattern, \" \", text)\n",
    "\n",
    "print(result)\n"
   ]
  },
  {
   "cell_type": "raw",
   "id": "c2c2b6e5",
   "metadata": {},
   "source": [
    "Question 24- Python regex to find sequences of one upper case letter followed by lower case letters"
   ]
  },
  {
   "cell_type": "code",
   "execution_count": 143,
   "id": "fc8a5b40",
   "metadata": {},
   "outputs": [
    {
     "name": "stdout",
     "output_type": "stream",
     "text": [
      "['This', 'Example', 'String', 'Multiple', 'Matches', 'This', 'One', 'Another', 'One']\n"
     ]
    }
   ],
   "source": [
    "import regex as  re\n",
    "\n",
    "pattern = r'[A-Z][a-z]+'\n",
    "\n",
    "text = 'This is an Example String with Multiple Matches like ThisOne or AnotherOne'\n",
    "\n",
    "matches = re.findall(pattern, text)\n",
    "\n",
    "print(matches)"
   ]
  },
  {
   "cell_type": "raw",
   "id": "5830df9c",
   "metadata": {},
   "source": [
    "Question 25- Write a Python program to remove duplicate words from Sentence using Regular Expression"
   ]
  },
  {
   "cell_type": "code",
   "execution_count": 141,
   "id": "cb113221",
   "metadata": {},
   "outputs": [
    {
     "name": "stdout",
     "output_type": "stream",
     "text": [
      "Ram went to his home\n"
     ]
    }
   ],
   "source": [
    "import regex as re\n",
    "\n",
    "string_25 = \"Ram went went to to his home\"\n",
    "\n",
    "regex = r\"\\b(\\w+)(?:\\W+\\1\\b)+\"\n",
    "\n",
    "g = re.sub(regex, r'\\1',string_25)\n",
    "\n",
    "print(g)"
   ]
  },
  {
   "cell_type": "raw",
   "id": "c73e86c9",
   "metadata": {},
   "source": [
    "Question 26-  Write a python program using RegEx to accept string ending with alphanumeric character."
   ]
  },
  {
   "cell_type": "code",
   "execution_count": 142,
   "id": "6f33d4e8",
   "metadata": {},
   "outputs": [
    {
     "name": "stdout",
     "output_type": "stream",
     "text": [
      "Enter a string: hefiwehgigiouerh168541\n",
      "String ends with an alphanumeric character.\n"
     ]
    }
   ],
   "source": [
    "import regex as  re\n",
    "\n",
    "def check_string(input_string):\n",
    "    pattern = r'^.*[a-zA-Z0-9]$' \n",
    "    match = re.match(pattern, input_string)\n",
    "    \n",
    "    if match:\n",
    "        print(\"String ends with an alphanumeric character.\")\n",
    "    else:\n",
    "        print(\"String does not end with an alphanumeric character.\")\n",
    "\n",
    "input_str = input(\"Enter a string: \")\n",
    "check_string(input_str)\n"
   ]
  },
  {
   "cell_type": "raw",
   "id": "e5aa5033",
   "metadata": {},
   "source": [
    "Question 27-Write a python program using RegEx to extract the hashtags.\n",
    "Sample Text: text = \"\"\"RT @kapil_kausik: #Doltiwal I mean #xyzabc is \"hurt\" by #Demonetization as the same has rendered USELESS <ed><U+00A0><U+00BD><ed><U+00B1><U+0089> \"acquired funds\" No wo\"\"\"\n",
    "Output: ['#Doltiwal', '#xyzabc', '#Demonetization']\n"
   ]
  },
  {
   "cell_type": "code",
   "execution_count": 167,
   "id": "1ab81791",
   "metadata": {},
   "outputs": [
    {
     "name": "stdout",
     "output_type": "stream",
     "text": [
      "['#Doltiwal', '#xyzabc', '#Demonetization']\n"
     ]
    }
   ],
   "source": [
    "import regex as re\n",
    "\n",
    "string_27 =  \"\"\"RT @kapil_kausik: #Doltiwal I mean #xyzabc is \"hurt\" by #Demonetization as the same has rendered USELESS <ed><U+00A0><U+00BD><ed><U+00B1><U+0089> \"acquired funds\" No wo\"\"\"\n",
    "\n",
    "pattern = r'#\\w+'\n",
    "\n",
    "Q27 = re.findall(pattern,string_27)\n",
    "\n",
    "print(Q27)"
   ]
  },
  {
   "cell_type": "raw",
   "id": "9f740d70",
   "metadata": {},
   "source": [
    "Question 28- Write a python program using RegEx to remove <U+..> like symbols\n",
    "Check the below sample text, there are strange symbols something of the sort <U+..> all over the place. You need to come up with a general Regex expression that will cover all such symbols.\n",
    "Sample Text: \"@Jags123456 Bharat band on 28??<ed><U+00A0><U+00BD><ed><U+00B8><U+0082>Those who  are protesting #demonetization  are all different party leaders\"\n",
    "Output: @Jags123456 Bharat band on 28??<ed><ed>Those who  are protesting #demonetization  are all different party leaders\n"
   ]
  },
  {
   "cell_type": "code",
   "execution_count": 24,
   "id": "9ee1fb93",
   "metadata": {},
   "outputs": [
    {
     "name": "stdout",
     "output_type": "stream",
     "text": [
      "@Jags123456 Bharat band on 28??<ed><ed>Those who are protesting #demonetization are all different party leaders\n"
     ]
    }
   ],
   "source": [
    "import regex as  re\n",
    "\n",
    "def remove_symbols(text):\n",
    "    \n",
    "    pattern = r\"<U\\+[0-9A-Fa-f]+>\"\n",
    "    \n",
    "    cleaned_text = re.sub(pattern, \"\", text)\n",
    "    \n",
    "    \n",
    "    return cleaned_text\n",
    "\n",
    "sample_text = \"@Jags123456 Bharat band on 28??<ed><U+00A0><U+00BD><ed><U+00B8><U+0082>Those who are protesting #demonetization are all different party leaders\"\n",
    "\n",
    "cleaned_text = remove_symbols(sample_text)\n",
    "\n",
    "print(cleaned_text)\n"
   ]
  },
  {
   "cell_type": "raw",
   "id": "a34c866e",
   "metadata": {},
   "source": [
    "Question 29- Write a python program to extract dates from the text stored in the text file.\n",
    "Sample Text: Ron was born on 12-09-1992 and he was admitted to school 15-12-1999.\n",
    "Store this sample text in the file and then extract dates.\n"
   ]
  },
  {
   "cell_type": "code",
   "execution_count": 25,
   "id": "d3d96012",
   "metadata": {},
   "outputs": [
    {
     "ename": "SyntaxError",
     "evalue": "(unicode error) 'unicodeescape' codec can't decode bytes in position 2-3: truncated \\UXXXXXXXX escape (1600709037.py, line 3)",
     "output_type": "error",
     "traceback": [
      "\u001b[1;36m  File \u001b[1;32m\"C:\\Users\\lenovo\\AppData\\Local\\Temp\\ipykernel_6820\\1600709037.py\"\u001b[1;36m, line \u001b[1;32m3\u001b[0m\n\u001b[1;33m    with open(\"C:\\Users\\lenovo\\ron_notepad.txt\") as file:\u001b[0m\n\u001b[1;37m                                               ^\u001b[0m\n\u001b[1;31mSyntaxError\u001b[0m\u001b[1;31m:\u001b[0m (unicode error) 'unicodeescape' codec can't decode bytes in position 2-3: truncated \\UXXXXXXXX escape\n"
     ]
    }
   ],
   "source": [
    "import regex as re\n",
    "\n",
    "with open(\"C:\\Users\\lenovo\\ron_notepad.txt\") as file:\n",
    "    \n",
    "    for line in file:\n",
    "        \n",
    "        ron = re.findall(r'\\d{2}-\\d{2}-\\d{4}',file)\n",
    "        \n",
    "        print(ron)"
   ]
  },
  {
   "cell_type": "code",
   "execution_count": null,
   "id": "5683545f",
   "metadata": {},
   "outputs": [],
   "source": []
  },
  {
   "cell_type": "raw",
   "id": "f096647d",
   "metadata": {},
   "source": [
    "Question 30- Write a Python program to replace all occurrences of a space, comma, or dot with a colon.\n",
    "Sample Text- 'Python Exercises, PHP exercises.'\n",
    "Output: Python:Exercises::PHP:exercises:\n"
   ]
  },
  {
   "cell_type": "code",
   "execution_count": 14,
   "id": "136533fe",
   "metadata": {},
   "outputs": [
    {
     "name": "stdout",
     "output_type": "stream",
     "text": [
      "Python:Exercise::PHP:exercise:\n"
     ]
    }
   ],
   "source": [
    "import regex as re\n",
    "\n",
    "sample_30 = 'Python Exercise, PHP exercise.'\n",
    "\n",
    "pattern = r'[ ,.]'\n",
    "\n",
    "replace = re.sub(pattern, ':',sample_30)\n",
    "\n",
    "print(replace)"
   ]
  },
  {
   "cell_type": "code",
   "execution_count": null,
   "id": "aad90826",
   "metadata": {},
   "outputs": [],
   "source": []
  }
 ],
 "metadata": {
  "kernelspec": {
   "display_name": "Python 3 (ipykernel)",
   "language": "python",
   "name": "python3"
  },
  "language_info": {
   "codemirror_mode": {
    "name": "ipython",
    "version": 3
   },
   "file_extension": ".py",
   "mimetype": "text/x-python",
   "name": "python",
   "nbconvert_exporter": "python",
   "pygments_lexer": "ipython3",
   "version": "3.9.13"
  }
 },
 "nbformat": 4,
 "nbformat_minor": 5
}
